{
  "nbformat": 4,
  "nbformat_minor": 0,
  "metadata": {
    "colab": {
      "provenance": [],
      "authorship_tag": "ABX9TyPJ+ACvleu6VSnsbG1n/qN5",
      "include_colab_link": true
    },
    "kernelspec": {
      "name": "python3",
      "display_name": "Python 3"
    },
    "language_info": {
      "name": "python"
    }
  },
  "cells": [
    {
      "cell_type": "markdown",
      "metadata": {
        "id": "view-in-github",
        "colab_type": "text"
      },
      "source": [
        "<a href=\"https://colab.research.google.com/github/jay0x5/About-Me-Website/blob/main/LSTMPRed.ipynb\" target=\"_parent\"><img src=\"https://colab.research.google.com/assets/colab-badge.svg\" alt=\"Open In Colab\"/></a>"
      ]
    },
    {
      "cell_type": "code",
      "execution_count": null,
      "metadata": {
        "id": "XZ0HHhxCqW3T"
      },
      "outputs": [],
      "source": [
        "import numpy as np\n",
        "import matplotlib.pyplot as plt \n",
        "import pandas as pd\n",
        "import pandas_datareader as web\n",
        "import datetime as dt\n",
        "\n",
        "from sklearn.preprocessing import MinMaxScaler\n",
        "from tensorflow.keras.models import Sequential\n",
        "from tensorflow.keras.layers import Dense,Dropout,LSTM\n",
        "# import tensorflow as tf\n",
        "# tf.keras.utils.set_random_seed(1)\n",
        "# tf.config.experimental.enable_op_determinism()\n",
        "\n",
        "crypto_currency  = 'TATAMOTOR'\n",
        "against_currency = 'INR'\n",
        "\n",
        "start = dt.datetime(2016,1,1)\n",
        "end = dt.datetime.now()\n"
      ]
    },
    {
      "cell_type": "code",
      "source": [
        "data = pd.read_csv(\"/content/TATAMOTORS.NS.csv\")\n",
        "\n",
        "#Scale\n",
        "scaler = MinMaxScaler(feature_range=(0, 1))\n",
        "scaled_data = scaler.fit_transform(data[\"High\"].values.reshape(-1,1))\n",
        "\n",
        "prediction_days = 60\n",
        "\n",
        "x_train,y_train = [],[]\n",
        "\n",
        "for x in range(prediction_days, len(scaled_data)):\n",
        "    x_train.append(scaled_data[x-prediction_days:x,0])\n",
        "    y_train.append(scaled_data[x,0])\n",
        "\n",
        "x_train = np.array(x_train)\n",
        "y_train = np.array(y_train)\n",
        "\n",
        "x_train = np.reshape(x_train, (x_train.shape[0],x_train.shape[1],1))"
      ],
      "metadata": {
        "id": "FHuK4wwfqszL"
      },
      "execution_count": null,
      "outputs": []
    },
    {
      "cell_type": "code",
      "source": [
        "#Model\n",
        "model = Sequential()\n",
        "model.add(LSTM(units=128,return_sequences=True,input_shape=(x_train.shape[1],1)))\n",
        "model.add(Dropout(0.2))\n",
        "model.add(LSTM(units=128,return_sequences=True))\n",
        "model.add(Dropout(0.2))\n",
        "model.add(LSTM(units=128))\n",
        "model.add(Dropout(0.2))\n",
        "model.add(Dense(units=1)) #Prediction of the next closing\n",
        "\n",
        "model.compile(optimizer='adam',loss='mean_squared_error')\n",
        "history = model.fit(x_train,y_train,epochs=25, batch_size=32)"
      ],
      "metadata": {
        "colab": {
          "base_uri": "https://localhost:8080/"
        },
        "id": "uqEvYS8dqxf-",
        "outputId": "fd511d1c-7cd8-442d-b147-ccbe65ef24af"
      },
      "execution_count": null,
      "outputs": [
        {
          "output_type": "stream",
          "name": "stdout",
          "text": [
            "Epoch 1/25\n",
            "42/42 [==============================] - 19s 323ms/step - loss: 0.0232\n",
            "Epoch 2/25\n",
            "42/42 [==============================] - 14s 331ms/step - loss: 0.0056\n",
            "Epoch 3/25\n",
            "42/42 [==============================] - 14s 328ms/step - loss: 0.0054\n",
            "Epoch 4/25\n",
            "42/42 [==============================] - 15s 353ms/step - loss: 0.0050\n",
            "Epoch 5/25\n",
            "42/42 [==============================] - 13s 317ms/step - loss: 0.0045\n",
            "Epoch 6/25\n",
            "42/42 [==============================] - 13s 320ms/step - loss: 0.0043\n",
            "Epoch 7/25\n",
            "42/42 [==============================] - 15s 350ms/step - loss: 0.0040\n",
            "Epoch 8/25\n",
            "42/42 [==============================] - 15s 359ms/step - loss: 0.0039\n",
            "Epoch 9/25\n",
            "42/42 [==============================] - 14s 325ms/step - loss: 0.0036\n",
            "Epoch 10/25\n",
            "42/42 [==============================] - 13s 315ms/step - loss: 0.0033\n",
            "Epoch 11/25\n",
            "42/42 [==============================] - 13s 316ms/step - loss: 0.0041\n",
            "Epoch 12/25\n",
            "42/42 [==============================] - 15s 369ms/step - loss: 0.0032\n",
            "Epoch 13/25\n",
            "42/42 [==============================] - 14s 320ms/step - loss: 0.0030\n",
            "Epoch 14/25\n",
            "42/42 [==============================] - 13s 317ms/step - loss: 0.0029\n",
            "Epoch 15/25\n",
            "42/42 [==============================] - 13s 317ms/step - loss: 0.0028\n",
            "Epoch 16/25\n",
            "42/42 [==============================] - 15s 354ms/step - loss: 0.0027\n",
            "Epoch 17/25\n",
            "42/42 [==============================] - 13s 320ms/step - loss: 0.0027\n",
            "Epoch 18/25\n",
            "42/42 [==============================] - 14s 322ms/step - loss: 0.0026\n",
            "Epoch 19/25\n",
            "42/42 [==============================] - 14s 323ms/step - loss: 0.0024\n",
            "Epoch 20/25\n",
            "42/42 [==============================] - 15s 354ms/step - loss: 0.0025\n",
            "Epoch 21/25\n",
            "42/42 [==============================] - 14s 325ms/step - loss: 0.0022\n",
            "Epoch 22/25\n",
            "42/42 [==============================] - 14s 328ms/step - loss: 0.0023\n",
            "Epoch 23/25\n",
            "42/42 [==============================] - 14s 328ms/step - loss: 0.0023\n",
            "Epoch 24/25\n",
            "42/42 [==============================] - 17s 398ms/step - loss: 0.0023\n",
            "Epoch 25/25\n",
            "42/42 [==============================] - 16s 376ms/step - loss: 0.0022\n"
          ]
        }
      ]
    },
    {
      "cell_type": "code",
      "source": [
        "#tesing the model\n",
        "\n",
        "test_start = dt.datetime(2020,1,1)\n",
        "test_end = dt.datetime.now()\n",
        "\n",
        "test_data = pd.read_csv(\"/content/TATAMOTORS.NSTest.csv\")\n",
        "actual_prices = test_data['High'].values\n",
        "\n",
        "total_dataset = pd.concat([data['High'], test_data['High']],axis=0)\n",
        "\n",
        "model_inputs = total_dataset[len(total_dataset)- len(test_data) -prediction_days:].values \n",
        "model_inputs = model_inputs.reshape(-1,1)\n",
        "model_inputs = scaler.fit_transform(model_inputs)\n",
        "\n",
        "x_test = []\n",
        "\n",
        "for x in range(prediction_days, len(model_inputs)):\n",
        "    x_test.append(model_inputs[x-prediction_days:x,0])\n",
        "\n",
        "\n",
        "x_test = np.array(x_test)\n",
        "x_test = np.reshape(x_test, (x_test.shape[0], x_test.shape[1], 1))\n",
        "\n",
        "prediction_prices = model.predict(x_test)\n",
        "prediction_prices = scaler.inverse_transform(prediction_prices)\n",
        "\n",
        "\n",
        "#Plot\n",
        "plt.plot(actual_prices, color=\"black\",label=f\"Actual {crypto_currency} prices\")\n",
        "plt.plot(prediction_prices,color=\"green\",label=\"Prediction\")\n",
        "plt.title(f\"{crypto_currency} Price/USD\")\n",
        "plt.xlabel('Time')\n",
        "plt.ylabel(f'{crypto_currency} Price/USD')\n",
        "plt.legend()\n",
        "plt.show()"
      ],
      "metadata": {
        "colab": {
          "base_uri": "https://localhost:8080/",
          "height": 312
        },
        "id": "lAMAATLmq2vw",
        "outputId": "ea765015-597b-4fb0-d491-bfcfa3bf9214"
      },
      "execution_count": null,
      "outputs": [
        {
          "output_type": "stream",
          "name": "stdout",
          "text": [
            "22/22 [==============================] - 4s 144ms/step\n"
          ]
        },
        {
          "output_type": "display_data",
          "data": {
            "text/plain": [
              "<Figure size 432x288 with 1 Axes>"
            ],
            "image/png": "[encoded data removed]"
          },
          "metadata": {
            "needs_background": "light"
          }
        }
      ]
    },
    {
      "cell_type": "code",
      "source": [
        "#Predict next day\n",
        "real_data = [model_inputs[len(model_inputs)+1 - prediction_days:len(model_inputs)+1 , 0]]\n",
        "real_data = np.array(real_data)\n",
        "real_data = np.reshape(real_data,(real_data.shape[0],real_data.shape[1],1))\n",
        "\n",
        "prediction = model.predict(real_data)\n",
        "prediction = scaler.inverse_transform(prediction)\n",
        "print(f\"Predicted Price for Tomorrow: {prediction}\")\n",
        "\n",
        "prediction = np.round_(prediction, decimals=2)\n",
        "\n",
        "print(f\"Rounded: {prediction}\")"
      ],
      "metadata": {
        "colab": {
          "base_uri": "https://localhost:8080/"
        },
        "id": "BtpB70uhq-6W",
        "outputId": "b6cf7d66-ef45-4e95-b4f3-ba1ac246c308"
      },
      "execution_count": null,
      "outputs": [
        {
          "output_type": "stream",
          "name": "stdout",
          "text": [
            "1/1 [==============================] - 1s 1s/step\n",
            "Predicted Price for Tomorrow: [[441.09198]]\n",
            "Rounded: [[441.09]]\n"
          ]
        }
      ]
    },
    {
      "cell_type": "code",
      "source": [
        "#447.06"
      ],
      "metadata": {
        "id": "z1xu9HXirAlE"
      },
      "execution_count": null,
      "outputs": []
    }
  ]
}