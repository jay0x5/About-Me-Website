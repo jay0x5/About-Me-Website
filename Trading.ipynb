{
  "nbformat": 4,
  "nbformat_minor": 0,
  "metadata": {
    "colab": {
      "provenance": [],
      "authorship_tag": "ABX9TyMeYFTNFgIh8o65D2LfpeOI",
      "include_colab_link": true
    },
    "kernelspec": {
      "name": "python3",
      "display_name": "Python 3"
    },
    "language_info": {
      "name": "python"
    },
    "accelerator": "GPU",
    "gpuClass": "standard"
  },
  "cells": [
    {
      "cell_type": "markdown",
      "metadata": {
        "id": "view-in-github",
        "colab_type": "text"
      },
      "source": [
        "<a href=\"https://colab.research.google.com/github/jay0x5/About-Me-Website/blob/main/Trading.ipynb\" target=\"_parent\"><img src=\"https://colab.research.google.com/assets/colab-badge.svg\" alt=\"Open In Colab\"/></a>"
      ]
    },
    {
      "cell_type": "code",
      "execution_count": 39,
      "metadata": {
        "id": "svSlYvqrr3pX"
      },
      "outputs": [],
      "source": [
        "import numpy as np\n",
        "import matplotlib.pyplot as plt \n",
        "import pandas as pd\n",
        "import pandas_datareader as web\n",
        "import datetime as dt\n",
        "\n",
        "from sklearn.preprocessing import MinMaxScaler\n",
        "from tensorflow.keras.models import Sequential\n",
        "from tensorflow.keras.layers import Dense,Dropout,LSTM"
      ]
    },
    {
      "cell_type": "code",
      "source": [
        "company = 'AAPL'\n",
        "\n",
        "start = dt.datetime(2012,1,1)\n",
        "end = dt.datetime(2023,1,1)\n",
        "\n",
        "#broken Yahoo api\n",
        "# data = web.DataReader(company,'yahoo',start,end)\n",
        "# print(data)\n",
        "\n",
        "data = pd.read_csv(\"/content/AAPL1.csv\")\n",
        "scaler = MinMaxScaler(feature_range=(0,1))\n",
        "scaled_data = scaler.fit_transform(data[\"Close\"].values.reshape(-1,1))\n",
        "\n",
        "prediction_days = 60\n",
        "\n",
        "x_train = []\n",
        "y_train = []\n",
        "\n",
        "for x in range(prediction_days,len(scaled_data)):\n",
        "    x_train.append(scaled_data[x-prediction_days:x,0])\n",
        "    y_train.append(scaled_data[x,0])\n",
        "\n",
        "\n",
        "x_train, y_train = np.array(x_train), np.array(y_train)\n",
        "x_train = np.reshape(x_train,(x_train.shape[0],x_train.shape[1],1))"
      ],
      "metadata": {
        "id": "8rCHQvRktoWV"
      },
      "execution_count": 61,
      "outputs": []
    },
    {
      "cell_type": "code",
      "source": [
        "#Build a model\n",
        "model = Sequential()\n",
        "\n",
        "model.add(LSTM(units=50,return_sequences=True,input_shape=(x_train.shape[1],1)))\n",
        "model.add(Dropout(0.2))\n",
        "model.add(LSTM(units=50,return_sequences=True))\n",
        "model.add(Dropout(0.2))\n",
        "model.add(LSTM(units=50))\n",
        "model.add(Dropout(0.2))\n",
        "model.add(Dense(units=1)) #Prediction of the next closing\n",
        "\n",
        "model.compile(optimizer=\"adam\",loss=\"mean_squared_error\")\n",
        "model.fit(x_train,y_train,epochs=50,batch_size=32)\n",
        "\n",
        "#Save the model\n",
        "model.save(\"./models/Model.h5\")\n",
        "print(\"model saved...\")"
      ],
      "metadata": {
        "colab": {
          "base_uri": "https://localhost:8080/"
        },
        "id": "MEbIXjb4tqTf",
        "outputId": "c8d13efd-ecf3-4968-c830-f88a371e2086"
      },
      "execution_count": 115,
      "outputs": [
        {
          "output_type": "stream",
          "name": "stdout",
          "text": [
            "Epoch 1/50\n",
            "85/85 [==============================] - 14s 97ms/step - loss: 0.0082\n",
            "Epoch 2/50\n",
            "85/85 [==============================] - 8s 95ms/step - loss: 0.0023\n",
            "Epoch 3/50\n",
            "85/85 [==============================] - 8s 95ms/step - loss: 0.0018\n",
            "Epoch 4/50\n",
            "85/85 [==============================] - 8s 97ms/step - loss: 0.0017\n",
            "Epoch 5/50\n",
            "85/85 [==============================] - 8s 98ms/step - loss: 0.0023\n",
            "Epoch 6/50\n",
            "85/85 [==============================] - 8s 95ms/step - loss: 0.0016\n",
            "Epoch 7/50\n",
            "85/85 [==============================] - 8s 96ms/step - loss: 0.0015\n",
            "Epoch 8/50\n",
            "85/85 [==============================] - 8s 95ms/step - loss: 0.0015\n",
            "Epoch 9/50\n",
            "85/85 [==============================] - 8s 94ms/step - loss: 0.0014\n",
            "Epoch 10/50\n",
            "85/85 [==============================] - 8s 94ms/step - loss: 0.0016\n",
            "Epoch 11/50\n",
            "85/85 [==============================] - 8s 94ms/step - loss: 0.0013\n",
            "Epoch 12/50\n",
            "85/85 [==============================] - 8s 97ms/step - loss: 0.0013\n",
            "Epoch 13/50\n",
            "85/85 [==============================] - 8s 93ms/step - loss: 0.0014\n",
            "Epoch 14/50\n",
            "85/85 [==============================] - 8s 94ms/step - loss: 0.0013\n",
            "Epoch 15/50\n",
            "85/85 [==============================] - 8s 100ms/step - loss: 0.0012\n",
            "Epoch 16/50\n",
            "85/85 [==============================] - 8s 96ms/step - loss: 0.0012\n",
            "Epoch 17/50\n",
            "85/85 [==============================] - 8s 93ms/step - loss: 0.0013\n",
            "Epoch 18/50\n",
            "85/85 [==============================] - 8s 93ms/step - loss: 0.0011\n",
            "Epoch 19/50\n",
            "85/85 [==============================] - 8s 96ms/step - loss: 0.0012\n",
            "Epoch 20/50\n",
            "85/85 [==============================] - 8s 96ms/step - loss: 0.0011\n",
            "Epoch 21/50\n",
            "85/85 [==============================] - 8s 96ms/step - loss: 0.0010\n",
            "Epoch 22/50\n",
            "85/85 [==============================] - 8s 92ms/step - loss: 0.0012\n",
            "Epoch 23/50\n",
            "85/85 [==============================] - 8s 96ms/step - loss: 0.0010\n",
            "Epoch 24/50\n",
            "85/85 [==============================] - 8s 99ms/step - loss: 0.0012\n",
            "Epoch 25/50\n",
            "85/85 [==============================] - 8s 98ms/step - loss: 0.0012\n",
            "Epoch 26/50\n",
            "85/85 [==============================] - 8s 96ms/step - loss: 0.0010\n",
            "Epoch 27/50\n",
            "85/85 [==============================] - 8s 94ms/step - loss: 8.8179e-04\n",
            "Epoch 28/50\n",
            "85/85 [==============================] - 8s 95ms/step - loss: 9.8854e-04\n",
            "Epoch 29/50\n",
            "85/85 [==============================] - 8s 97ms/step - loss: 9.8865e-04\n",
            "Epoch 30/50\n",
            "85/85 [==============================] - 8s 97ms/step - loss: 0.0010\n",
            "Epoch 31/50\n",
            "85/85 [==============================] - 8s 97ms/step - loss: 8.9321e-04\n",
            "Epoch 32/50\n",
            "85/85 [==============================] - 8s 91ms/step - loss: 0.0011\n",
            "Epoch 33/50\n",
            "85/85 [==============================] - 9s 110ms/step - loss: 8.6581e-04\n",
            "Epoch 34/50\n",
            "85/85 [==============================] - 8s 95ms/step - loss: 9.2293e-04\n",
            "Epoch 35/50\n",
            "85/85 [==============================] - 8s 94ms/step - loss: 0.0012\n",
            "Epoch 36/50\n",
            "85/85 [==============================] - 8s 96ms/step - loss: 0.0011\n",
            "Epoch 37/50\n",
            "85/85 [==============================] - 8s 94ms/step - loss: 9.2656e-04\n",
            "Epoch 38/50\n",
            "85/85 [==============================] - 8s 93ms/step - loss: 9.0845e-04\n",
            "Epoch 39/50\n",
            "85/85 [==============================] - 8s 97ms/step - loss: 8.9880e-04\n",
            "Epoch 40/50\n",
            "85/85 [==============================] - 8s 95ms/step - loss: 8.7911e-04\n",
            "Epoch 41/50\n",
            "85/85 [==============================] - 8s 92ms/step - loss: 8.6564e-04\n",
            "Epoch 42/50\n",
            "85/85 [==============================] - 8s 91ms/step - loss: 8.5603e-04\n",
            "Epoch 43/50\n",
            "85/85 [==============================] - 8s 96ms/step - loss: 0.0010\n",
            "Epoch 44/50\n",
            "85/85 [==============================] - 8s 93ms/step - loss: 9.4696e-04\n",
            "Epoch 45/50\n",
            "85/85 [==============================] - 8s 92ms/step - loss: 8.1487e-04\n",
            "Epoch 46/50\n",
            "85/85 [==============================] - 8s 95ms/step - loss: 9.0944e-04\n",
            "Epoch 47/50\n",
            "85/85 [==============================] - 8s 97ms/step - loss: 8.7355e-04\n",
            "Epoch 48/50\n",
            "85/85 [==============================] - 8s 91ms/step - loss: 8.4691e-04\n",
            "Epoch 49/50\n",
            "85/85 [==============================] - 8s 93ms/step - loss: 8.7528e-04\n",
            "Epoch 50/50\n",
            "85/85 [==============================] - 8s 91ms/step - loss: 8.2871e-04\n",
            "model saved...\n"
          ]
        }
      ]
    },
    {
      "cell_type": "code",
      "source": [
        "#test the accuracy on existing test\n",
        "test_start = dt.datetime(2023,2,2)\n",
        "test_end = dt.datetime.now()\n",
        "\n",
        "test_data = pd.read_csv('/content/testold.csv')\n",
        "actual_prices = test_data['Close'].values\n"
      ],
      "metadata": {
        "id": "XIoZyjPsusFa"
      },
      "execution_count": 120,
      "outputs": []
    },
    {
      "cell_type": "code",
      "source": [
        "total_dataset = pd.concat((data[\"Close\"], test_data['Close']), axis=0)\n",
        "\n",
        "model_inputs = total_dataset[len(total_dataset) - len(test_data) - prediction_days:].values\n",
        "model_inputs = model_inputs.reshape(-1,1)\n",
        "model_inputs = scaler.transform(model_inputs)"
      ],
      "metadata": {
        "id": "njiiMoTvwpsW"
      },
      "execution_count": 121,
      "outputs": []
    },
    {
      "cell_type": "code",
      "source": [
        "#make predictions\n",
        "x_test = []\n",
        "\n",
        "for x in range(prediction_days,len(model_inputs)):\n",
        "    x_test.append(model_inputs[x-prediction_days:x, 0 ])\n",
        "\n",
        "\n",
        "x_test = np.array(x_test)\n",
        "x_test = np.reshape(x_test,(x_test.shape[0],x_test.shape[1],1))\n",
        "\n",
        "predicted_prices = model.predict(x_test)\n",
        "predicted_prices = scaler.inverse_transform(predicted_prices)\n",
        "\n",
        "\n",
        "\n",
        "#Plot\n",
        "plt.plot(actual_prices, color=\"black\",label=f\"Actual {company} prices\")\n",
        "plt.plot(predicted_prices,color=\"green\",label=\"Prediction\")\n",
        "plt.title(f\"{company} Share Price\")\n",
        "plt.xlabel('Time')\n",
        "plt.ylabel(f'{company} Share Price')\n",
        "plt.legend()\n",
        "plt.show()\n",
        "\n",
        "for j in range(len(actual_prices)):\n",
        "  print(f\"Actual {actual_prices[j]} - Predicted {predicted_prices[j]}\")"
      ],
      "metadata": {
        "colab": {
          "base_uri": "https://localhost:8080/",
          "height": 660
        },
        "id": "icEJZn7IyWCz",
        "outputId": "6ab92f6f-46bf-4775-b08e-dd075b524c0f"
      },
      "execution_count": 122,
      "outputs": [
        {
          "output_type": "stream",
          "name": "stdout",
          "text": [
            "1/1 [==============================] - 0s 37ms/step\n"
          ]
        },
        {
          "output_type": "display_data",
          "data": {
            "text/plain": [
              "<Figure size 432x288 with 1 Axes>"
            ],
            "image/png": "[encoded data removed]"
          },
          "metadata": {
            "needs_background": "light"
          }
        },
        {
          "output_type": "stream",
          "name": "stdout",
          "text": [
            "Actual 125.06999969482422 - Predicted [127.47154]\n",
            "Actual 126.36000061035156 - Predicted [126.7959]\n",
            "Actual 125.0199966430664 - Predicted [126.087524]\n",
            "Actual 129.6199951171875 - Predicted [125.31223]\n",
            "Actual 130.14999389648438 - Predicted [125.12738]\n",
            "Actual 130.72999572753906 - Predicted [125.505356]\n",
            "Actual 133.49000549316406 - Predicted [126.24827]\n",
            "Actual 133.41000366210938 - Predicted [127.3963]\n",
            "Actual 134.75999450683594 - Predicted [128.6054]\n",
            "Actual 135.94000244140625 - Predicted [129.7645]\n",
            "Actual 135.2100067138672 - Predicted [130.82314]\n",
            "Actual 135.27000427246094 - Predicted [131.54411]\n",
            "Actual 137.8699951171875 - Predicted [131.9043]\n",
            "Actual 141.11000061035156 - Predicted [132.2926]\n",
            "Actual 142.52999877929688 - Predicted [133.1027]\n",
            "Actual 141.86000061035156 - Predicted [134.3034]\n",
            "Actual 143.9600067138672 - Predicted [135.47917]\n",
            "Actual 145.92999267578125 - Predicted [136.66011]\n",
            "Actual 143.0 - Predicted [137.91072]\n"
          ]
        }
      ]
    },
    {
      "cell_type": "code",
      "source": [
        "#Predict the next day\n",
        "real_data = [model_inputs[len(model_inputs) + 1 - prediction_days:len(model_inputs+1), 0]]\n",
        "real_data = np.array(real_data)\n",
        "real_data = np.reshape(real_data,(real_data.shape[0],real_data.shape[1],1))\n",
        "\n",
        "\n",
        "prediction = model.predict(real_data)\n",
        "prediction = scaler.inverse_transform(prediction)\n",
        "print(f\"Predicted Price for Tomorrow: {prediction}\")"
      ],
      "metadata": {
        "colab": {
          "base_uri": "https://localhost:8080/"
        },
        "id": "jr5M_5Qmzkfv",
        "outputId": "e01a69c3-0387-41b5-b559-81e6e19a44bf"
      },
      "execution_count": 123,
      "outputs": [
        {
          "output_type": "stream",
          "name": "stdout",
          "text": [
            "1/1 [==============================] - 0s 30ms/step\n",
            "Predicted Price for Tomorrow: [[138.64172]]\n"
          ]
        }
      ]
    },
    {
      "cell_type": "code",
      "source": [],
      "metadata": {
        "id": "Epq6P4mm5Wzv"
      },
      "execution_count": null,
      "outputs": []
    }
  ]
}